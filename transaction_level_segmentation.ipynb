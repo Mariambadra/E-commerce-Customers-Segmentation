{
 "cells": [
  {
   "cell_type": "markdown",
   "id": "02df8197",
   "metadata": {},
   "source": [
    "### Libraries Importing"
   ]
  },
  {
   "cell_type": "code",
   "execution_count": 39,
   "id": "fc3424ec",
   "metadata": {},
   "outputs": [],
   "source": [
    "import pandas as pd\n",
    "import matplotlib.pyplot as plt\n",
    "import numpy as np\n",
    "from sklearn.preprocessing import LabelEncoder\n",
    "from sklearn.preprocessing import StandardScaler\n",
    "from sklearn.cluster import KMeans\n",
    "from sklearn.metrics import silhouette_score"
   ]
  },
  {
   "cell_type": "markdown",
   "id": "8524ddfd",
   "metadata": {},
   "source": [
    "### Data Importing"
   ]
  },
  {
   "cell_type": "code",
   "execution_count": 4,
   "id": "d7ba25f6",
   "metadata": {},
   "outputs": [
    {
     "name": "stdout",
     "output_type": "stream",
     "text": [
      "   customer_id  join_date  city_id  gender_id\n",
      "0            1 2022-01-08        7          1\n",
      "1            2 2023-05-02       20          2\n",
      "2            3 2023-05-14       15          1\n",
      "3            4 2022-11-25       11          2\n",
      "4            5 2023-04-26        8          1\n",
      "   gender_id gender_name\n",
      "0          1        Male\n",
      "1          2      Female\n",
      "   city_id         city_name\n",
      "0        1             Cairo\n",
      "1        2        Alexandria\n",
      "2        3              Giza\n",
      "3        4  Shubra El-Kheima\n",
      "4        5         Port Said\n",
      "   transaction_id  customer_id transaction_date transaction_status  \\\n",
      "0               1          733       2024-05-11         subscribed   \n",
      "1               2          631       2023-05-15             burned   \n",
      "2               3          309       2022-11-13         subscribed   \n",
      "3               4          695       2024-01-26         subscribed   \n",
      "4               5          288       2022-10-12             burned   \n",
      "\n",
      "  coupon_name  burn_date  branch_id  \n",
      "0     uNY-568        NaT          7  \n",
      "1     kBx-219 2023-06-04          5  \n",
      "2     PLG-122        NaT          7  \n",
      "3     Wzf-897        NaT          2  \n",
      "4     qGb-428 2022-11-20          6  \n",
      "   branch_id  merchant_id\n",
      "0          1           11\n",
      "1          2           18\n",
      "2          3            8\n",
      "3          4           15\n",
      "4          5            9\n",
      "   merchant_id           merchant_name\n",
      "0            1             Rivas Group\n",
      "1            2           Peters-Acosta\n",
      "2            3  Duran, Perry and Stout\n",
      "3            4              Morton Ltd\n",
      "4            5           Curtis-Fields\n"
     ]
    }
   ],
   "source": [
    "customers_df = pd.read_excel('E-commerce_data.xlsx', sheet_name='customers')\n",
    "genders_df = pd.read_excel('E-commerce_data.xlsx', sheet_name='genders')\n",
    "cities_df = pd.read_excel('E-commerce_data.xlsx', sheet_name='cities')\n",
    "transactions_df = pd.read_excel('E-commerce_data.xlsx', sheet_name='transactions')\n",
    "branches_df = pd.read_excel('E-commerce_data.xlsx', sheet_name='branches')\n",
    "merchants_df = pd.read_excel('E-commerce_data.xlsx', sheet_name='merchants')\n",
    "print(customers_df.head())\n",
    "print(genders_df.head())\n",
    "print(cities_df.head())\n",
    "print(transactions_df.head())\n",
    "print(branches_df.head())\n",
    "print(merchants_df.head())"
   ]
  },
  {
   "cell_type": "markdown",
   "id": "e27f70ef",
   "metadata": {},
   "source": [
    "### Merging Dataframes"
   ]
  },
  {
   "cell_type": "code",
   "execution_count": 5,
   "id": "6032858d",
   "metadata": {},
   "outputs": [
    {
     "data": {
      "text/html": [
       "<div>\n",
       "<style scoped>\n",
       "    .dataframe tbody tr th:only-of-type {\n",
       "        vertical-align: middle;\n",
       "    }\n",
       "\n",
       "    .dataframe tbody tr th {\n",
       "        vertical-align: top;\n",
       "    }\n",
       "\n",
       "    .dataframe thead th {\n",
       "        text-align: right;\n",
       "    }\n",
       "</style>\n",
       "<table border=\"1\" class=\"dataframe\">\n",
       "  <thead>\n",
       "    <tr style=\"text-align: right;\">\n",
       "      <th></th>\n",
       "      <th>customer_id</th>\n",
       "      <th>join_date</th>\n",
       "      <th>city_id</th>\n",
       "      <th>gender_id</th>\n",
       "      <th>gender_name</th>\n",
       "      <th>city_name</th>\n",
       "      <th>transaction_id</th>\n",
       "      <th>transaction_date</th>\n",
       "      <th>transaction_status</th>\n",
       "      <th>coupon_name</th>\n",
       "      <th>burn_date</th>\n",
       "      <th>branch_id</th>\n",
       "      <th>merchant_id</th>\n",
       "      <th>merchant_name</th>\n",
       "    </tr>\n",
       "  </thead>\n",
       "  <tbody>\n",
       "    <tr>\n",
       "      <th>0</th>\n",
       "      <td>733</td>\n",
       "      <td>2023-05-16</td>\n",
       "      <td>15</td>\n",
       "      <td>2</td>\n",
       "      <td>Female</td>\n",
       "      <td>Aswan</td>\n",
       "      <td>1</td>\n",
       "      <td>2024-05-11</td>\n",
       "      <td>subscribed</td>\n",
       "      <td>uNY-568</td>\n",
       "      <td>NaT</td>\n",
       "      <td>7</td>\n",
       "      <td>7</td>\n",
       "      <td>Berry-Anderson</td>\n",
       "    </tr>\n",
       "    <tr>\n",
       "      <th>1</th>\n",
       "      <td>631</td>\n",
       "      <td>2022-10-10</td>\n",
       "      <td>14</td>\n",
       "      <td>2</td>\n",
       "      <td>Female</td>\n",
       "      <td>Damietta</td>\n",
       "      <td>2</td>\n",
       "      <td>2023-05-15</td>\n",
       "      <td>burned</td>\n",
       "      <td>kBx-219</td>\n",
       "      <td>2023-06-04</td>\n",
       "      <td>5</td>\n",
       "      <td>9</td>\n",
       "      <td>Campbell, Shaffer and Martinez</td>\n",
       "    </tr>\n",
       "    <tr>\n",
       "      <th>2</th>\n",
       "      <td>309</td>\n",
       "      <td>2022-05-30</td>\n",
       "      <td>2</td>\n",
       "      <td>1</td>\n",
       "      <td>Male</td>\n",
       "      <td>Alexandria</td>\n",
       "      <td>3</td>\n",
       "      <td>2022-11-13</td>\n",
       "      <td>subscribed</td>\n",
       "      <td>PLG-122</td>\n",
       "      <td>NaT</td>\n",
       "      <td>7</td>\n",
       "      <td>7</td>\n",
       "      <td>Berry-Anderson</td>\n",
       "    </tr>\n",
       "    <tr>\n",
       "      <th>3</th>\n",
       "      <td>695</td>\n",
       "      <td>2023-11-27</td>\n",
       "      <td>15</td>\n",
       "      <td>2</td>\n",
       "      <td>Female</td>\n",
       "      <td>Aswan</td>\n",
       "      <td>4</td>\n",
       "      <td>2024-01-26</td>\n",
       "      <td>subscribed</td>\n",
       "      <td>Wzf-897</td>\n",
       "      <td>NaT</td>\n",
       "      <td>2</td>\n",
       "      <td>18</td>\n",
       "      <td>Lewis LLC</td>\n",
       "    </tr>\n",
       "    <tr>\n",
       "      <th>4</th>\n",
       "      <td>288</td>\n",
       "      <td>2021-09-04</td>\n",
       "      <td>14</td>\n",
       "      <td>1</td>\n",
       "      <td>Male</td>\n",
       "      <td>Damietta</td>\n",
       "      <td>5</td>\n",
       "      <td>2022-10-12</td>\n",
       "      <td>burned</td>\n",
       "      <td>qGb-428</td>\n",
       "      <td>2022-11-20</td>\n",
       "      <td>6</td>\n",
       "      <td>15</td>\n",
       "      <td>Butler-Gomez</td>\n",
       "    </tr>\n",
       "  </tbody>\n",
       "</table>\n",
       "</div>"
      ],
      "text/plain": [
       "   customer_id  join_date  city_id  gender_id gender_name   city_name  \\\n",
       "0          733 2023-05-16       15          2      Female       Aswan   \n",
       "1          631 2022-10-10       14          2      Female    Damietta   \n",
       "2          309 2022-05-30        2          1        Male  Alexandria   \n",
       "3          695 2023-11-27       15          2      Female       Aswan   \n",
       "4          288 2021-09-04       14          1        Male    Damietta   \n",
       "\n",
       "   transaction_id transaction_date transaction_status coupon_name  burn_date  \\\n",
       "0               1       2024-05-11         subscribed     uNY-568        NaT   \n",
       "1               2       2023-05-15             burned     kBx-219 2023-06-04   \n",
       "2               3       2022-11-13         subscribed     PLG-122        NaT   \n",
       "3               4       2024-01-26         subscribed     Wzf-897        NaT   \n",
       "4               5       2022-10-12             burned     qGb-428 2022-11-20   \n",
       "\n",
       "   branch_id  merchant_id                   merchant_name  \n",
       "0          7            7                  Berry-Anderson  \n",
       "1          5            9  Campbell, Shaffer and Martinez  \n",
       "2          7            7                  Berry-Anderson  \n",
       "3          2           18                       Lewis LLC  \n",
       "4          6           15                    Butler-Gomez  "
      ]
     },
     "execution_count": 5,
     "metadata": {},
     "output_type": "execute_result"
    }
   ],
   "source": [
    "#Merging customers with genders dataframes\n",
    "df= customers_df.merge(genders_df, on='gender_id', how = 'left')\n",
    "#merging the cities dataframe\n",
    "df= df.merge(cities_df,on='city_id', how = 'left')\n",
    "#merging transactions dataframe\n",
    "df=df.merge(transactions_df, on = 'customer_id', how = 'right')\n",
    "#merging branches dataframe\n",
    "df= df.merge(branches_df, on = 'branch_id', how= 'left')\n",
    "#merging merchant dataframe\n",
    "df = df.merge(merchants_df, on = 'merchant_id', how='left')\n",
    "\n",
    "df.head()"
   ]
  },
  {
   "cell_type": "code",
   "execution_count": 6,
   "id": "fa5df4ca",
   "metadata": {},
   "outputs": [
    {
     "data": {
      "text/plain": [
       "(5000, 14)"
      ]
     },
     "execution_count": 6,
     "metadata": {},
     "output_type": "execute_result"
    }
   ],
   "source": [
    "df.shape"
   ]
  },
  {
   "cell_type": "code",
   "execution_count": 7,
   "id": "e1fa5881",
   "metadata": {},
   "outputs": [
    {
     "name": "stdout",
     "output_type": "stream",
     "text": [
      "<class 'pandas.core.frame.DataFrame'>\n",
      "RangeIndex: 5000 entries, 0 to 4999\n",
      "Data columns (total 14 columns):\n",
      " #   Column              Non-Null Count  Dtype         \n",
      "---  ------              --------------  -----         \n",
      " 0   customer_id         5000 non-null   int64         \n",
      " 1   join_date           5000 non-null   datetime64[ns]\n",
      " 2   city_id             5000 non-null   int64         \n",
      " 3   gender_id           5000 non-null   int64         \n",
      " 4   gender_name         5000 non-null   object        \n",
      " 5   city_name           5000 non-null   object        \n",
      " 6   transaction_id      5000 non-null   int64         \n",
      " 7   transaction_date    5000 non-null   datetime64[ns]\n",
      " 8   transaction_status  5000 non-null   object        \n",
      " 9   coupon_name         5000 non-null   object        \n",
      " 10  burn_date           2516 non-null   datetime64[ns]\n",
      " 11  branch_id           5000 non-null   int64         \n",
      " 12  merchant_id         5000 non-null   int64         \n",
      " 13  merchant_name       5000 non-null   object        \n",
      "dtypes: datetime64[ns](3), int64(6), object(5)\n",
      "memory usage: 547.0+ KB\n"
     ]
    }
   ],
   "source": [
    "df.info()"
   ]
  },
  {
   "cell_type": "markdown",
   "id": "6eabecc8",
   "metadata": {},
   "source": [
    "### Data cleaning"
   ]
  },
  {
   "cell_type": "code",
   "execution_count": 8,
   "id": "dba51380",
   "metadata": {},
   "outputs": [
    {
     "data": {
      "text/plain": [
       "customer_id                    int64\n",
       "join_date             datetime64[ns]\n",
       "city_id                        int64\n",
       "gender_id                      int64\n",
       "gender_name                   object\n",
       "city_name                     object\n",
       "transaction_id                 int64\n",
       "transaction_date      datetime64[ns]\n",
       "transaction_status            object\n",
       "coupon_name                   object\n",
       "burn_date             datetime64[ns]\n",
       "branch_id                      int64\n",
       "merchant_id                    int64\n",
       "merchant_name                 object\n",
       "dtype: object"
      ]
     },
     "execution_count": 8,
     "metadata": {},
     "output_type": "execute_result"
    }
   ],
   "source": [
    "#checking the data types\n",
    "df.dtypes"
   ]
  },
  {
   "cell_type": "code",
   "execution_count": 9,
   "id": "e18e59cb",
   "metadata": {},
   "outputs": [
    {
     "data": {
      "text/plain": [
       "0"
      ]
     },
     "execution_count": 9,
     "metadata": {},
     "output_type": "execute_result"
    }
   ],
   "source": [
    "#checking data for duplicates\n",
    "df.duplicated().sum()"
   ]
  },
  {
   "cell_type": "code",
   "execution_count": 10,
   "id": "57bebb73",
   "metadata": {},
   "outputs": [
    {
     "data": {
      "text/plain": [
       "customer_id           0.0000\n",
       "join_date             0.0000\n",
       "city_id               0.0000\n",
       "gender_id             0.0000\n",
       "gender_name           0.0000\n",
       "city_name             0.0000\n",
       "transaction_id        0.0000\n",
       "transaction_date      0.0000\n",
       "transaction_status    0.0000\n",
       "coupon_name           0.0000\n",
       "burn_date             0.4968\n",
       "branch_id             0.0000\n",
       "merchant_id           0.0000\n",
       "merchant_name         0.0000\n",
       "dtype: float64"
      ]
     },
     "execution_count": 10,
     "metadata": {},
     "output_type": "execute_result"
    }
   ],
   "source": [
    "#checking the missing values\n",
    "df.isna().sum()/len(df)"
   ]
  },
  {
   "cell_type": "markdown",
   "id": "0d9051c0",
   "metadata": {},
   "source": [
    "`burn_date` has ~ 50% of its values as nulls, so we can't drop the missing values and since it provides important information that could help improve the model's performance, we cannot drop it.\n",
    "so we will overcome this issue by replacing the null values with a specific date (e.g., \"2099-12-31\" as a placeholder)."
   ]
  },
  {
   "cell_type": "code",
   "execution_count": 11,
   "id": "1426e8ad",
   "metadata": {},
   "outputs": [],
   "source": [
    "df['burn_date'].fillna('2099-12-31', inplace=True)"
   ]
  },
  {
   "cell_type": "code",
   "execution_count": 12,
   "id": "baa930f5",
   "metadata": {},
   "outputs": [
    {
     "data": {
      "text/plain": [
       "0"
      ]
     },
     "execution_count": 12,
     "metadata": {},
     "output_type": "execute_result"
    }
   ],
   "source": [
    "df['burn_date'].isna().sum()"
   ]
  },
  {
   "cell_type": "markdown",
   "id": "a79704f2",
   "metadata": {},
   "source": [
    "#### Handling multicolinearity"
   ]
  },
  {
   "cell_type": "markdown",
   "id": "7a45d0ef",
   "metadata": {},
   "source": [
    "since the ids' columns have 1:1 mapping with the names columns, we should consider dropping them to avoid multicoliearity and high dimensionality."
   ]
  },
  {
   "cell_type": "code",
   "execution_count": 13,
   "id": "74a056eb",
   "metadata": {},
   "outputs": [
    {
     "data": {
      "text/plain": [
       "Index(['customer_id', 'join_date', 'city_id', 'gender_id', 'transaction_id',\n",
       "       'transaction_date', 'transaction_status', 'coupon_name', 'burn_date',\n",
       "       'branch_id', 'merchant_id'],\n",
       "      dtype='object')"
      ]
     },
     "execution_count": 13,
     "metadata": {},
     "output_type": "execute_result"
    }
   ],
   "source": [
    "df1 = df.drop(columns=['gender_name','city_name','merchant_name'])\n",
    "df1.columns"
   ]
  },
  {
   "cell_type": "markdown",
   "id": "69582eba",
   "metadata": {},
   "source": [
    "### Handling high dimensionality"
   ]
  },
  {
   "cell_type": "code",
   "execution_count": 14,
   "id": "549adc9b",
   "metadata": {},
   "outputs": [
    {
     "data": {
      "text/plain": [
       "customer_id            989\n",
       "join_date              648\n",
       "city_id                 20\n",
       "gender_id                2\n",
       "gender_name              2\n",
       "city_name               20\n",
       "transaction_id        5000\n",
       "transaction_date       885\n",
       "transaction_status       2\n",
       "coupon_name           5000\n",
       "burn_date              790\n",
       "branch_id               10\n",
       "merchant_id              8\n",
       "merchant_name            8\n",
       "dtype: int64"
      ]
     },
     "execution_count": 14,
     "metadata": {},
     "output_type": "execute_result"
    }
   ],
   "source": [
    "df.nunique()"
   ]
  },
  {
   "cell_type": "markdown",
   "id": "662906f1",
   "metadata": {},
   "source": [
    "clearly, each observation has a unique `transaction_id` and `coupon_name`, so it will not add any value to our model, so why not drpping them?! "
   ]
  },
  {
   "cell_type": "code",
   "execution_count": 15,
   "id": "64d9cd0e",
   "metadata": {},
   "outputs": [
    {
     "data": {
      "text/plain": [
       "Index(['customer_id', 'join_date', 'city_id', 'gender_id', 'transaction_date',\n",
       "       'transaction_status', 'burn_date', 'branch_id', 'merchant_id'],\n",
       "      dtype='object')"
      ]
     },
     "execution_count": 15,
     "metadata": {},
     "output_type": "execute_result"
    }
   ],
   "source": [
    "df2 = df1.drop(columns = ['transaction_id', 'coupon_name'])\n",
    "df2.columns"
   ]
  },
  {
   "cell_type": "code",
   "execution_count": 16,
   "id": "c80c1698",
   "metadata": {
    "scrolled": true
   },
   "outputs": [
    {
     "name": "stdout",
     "output_type": "stream",
     "text": [
      "<class 'pandas.core.frame.DataFrame'>\n",
      "RangeIndex: 5000 entries, 0 to 4999\n",
      "Data columns (total 9 columns):\n",
      " #   Column              Non-Null Count  Dtype         \n",
      "---  ------              --------------  -----         \n",
      " 0   customer_id         5000 non-null   int64         \n",
      " 1   join_date           5000 non-null   datetime64[ns]\n",
      " 2   city_id             5000 non-null   int64         \n",
      " 3   gender_id           5000 non-null   int64         \n",
      " 4   transaction_date    5000 non-null   datetime64[ns]\n",
      " 5   transaction_status  5000 non-null   object        \n",
      " 6   burn_date           5000 non-null   datetime64[ns]\n",
      " 7   branch_id           5000 non-null   int64         \n",
      " 8   merchant_id         5000 non-null   int64         \n",
      "dtypes: datetime64[ns](3), int64(5), object(1)\n",
      "memory usage: 351.7+ KB\n"
     ]
    }
   ],
   "source": [
    "df2.info()"
   ]
  },
  {
   "cell_type": "markdown",
   "id": "a30c18a1",
   "metadata": {},
   "source": [
    "### Encode categorical feature"
   ]
  },
  {
   "cell_type": "code",
   "execution_count": 17,
   "id": "9303f961",
   "metadata": {},
   "outputs": [
    {
     "data": {
      "text/plain": [
       "array(['subscribed', 'burned'], dtype=object)"
      ]
     },
     "execution_count": 17,
     "metadata": {},
     "output_type": "execute_result"
    }
   ],
   "source": [
    "df2['transaction_status'].unique()"
   ]
  },
  {
   "cell_type": "code",
   "execution_count": 18,
   "id": "a60b5bf0",
   "metadata": {},
   "outputs": [
    {
     "data": {
      "text/plain": [
       "array([1, 0])"
      ]
     },
     "execution_count": 18,
     "metadata": {},
     "output_type": "execute_result"
    }
   ],
   "source": [
    "le = LabelEncoder()\n",
    "df2['transaction_status'] = le.fit_transform(df2['transaction_status'])\n",
    "df2['transaction_status'].unique()"
   ]
  },
  {
   "cell_type": "markdown",
   "id": "034fa3e8",
   "metadata": {},
   "source": [
    "### Features scaling"
   ]
  },
  {
   "cell_type": "markdown",
   "id": "9b3cb6c9",
   "metadata": {},
   "source": [
    "To be able to scale all the features we need to deal with the datetime columns."
   ]
  },
  {
   "cell_type": "code",
   "execution_count": 19,
   "id": "393e04ff",
   "metadata": {},
   "outputs": [],
   "source": [
    "df2['join_date(y)'] = df2['join_date'].dt.year\n",
    "df2['join_date(m)'] = df2['join_date'].dt.month\n",
    "df2['join_date(d)'] =df2['join_date'].dt.day\n",
    "df2['transaction_date(y)'] = df2['transaction_date'].dt.year\n",
    "df2['transaction_date(m)'] = df2['transaction_date'].dt.month\n",
    "df2['transaction_date(d)'] = df2['transaction_date'].dt.day\n",
    "df2['burn_date(y)'] =df2['burn_date'].dt.year\n",
    "df2['burn_date(m)'] = df2['burn_date'].dt.month\n",
    "df2['burn_date(d)'] = df2['burn_date'].dt.day\n"
   ]
  },
  {
   "cell_type": "code",
   "execution_count": 20,
   "id": "116bb83c",
   "metadata": {
    "scrolled": true
   },
   "outputs": [
    {
     "data": {
      "text/html": [
       "<div>\n",
       "<style scoped>\n",
       "    .dataframe tbody tr th:only-of-type {\n",
       "        vertical-align: middle;\n",
       "    }\n",
       "\n",
       "    .dataframe tbody tr th {\n",
       "        vertical-align: top;\n",
       "    }\n",
       "\n",
       "    .dataframe thead th {\n",
       "        text-align: right;\n",
       "    }\n",
       "</style>\n",
       "<table border=\"1\" class=\"dataframe\">\n",
       "  <thead>\n",
       "    <tr style=\"text-align: right;\">\n",
       "      <th></th>\n",
       "      <th>customer_id</th>\n",
       "      <th>join_date</th>\n",
       "      <th>city_id</th>\n",
       "      <th>gender_id</th>\n",
       "      <th>transaction_date</th>\n",
       "      <th>transaction_status</th>\n",
       "      <th>burn_date</th>\n",
       "      <th>branch_id</th>\n",
       "      <th>merchant_id</th>\n",
       "      <th>join_date(y)</th>\n",
       "      <th>join_date(m)</th>\n",
       "      <th>join_date(d)</th>\n",
       "      <th>transaction_date(y)</th>\n",
       "      <th>transaction_date(m)</th>\n",
       "      <th>transaction_date(d)</th>\n",
       "      <th>burn_date(y)</th>\n",
       "      <th>burn_date(m)</th>\n",
       "      <th>burn_date(d)</th>\n",
       "    </tr>\n",
       "  </thead>\n",
       "  <tbody>\n",
       "    <tr>\n",
       "      <th>0</th>\n",
       "      <td>733</td>\n",
       "      <td>2023-05-16</td>\n",
       "      <td>15</td>\n",
       "      <td>2</td>\n",
       "      <td>2024-05-11</td>\n",
       "      <td>1</td>\n",
       "      <td>2099-12-31</td>\n",
       "      <td>7</td>\n",
       "      <td>7</td>\n",
       "      <td>2023</td>\n",
       "      <td>5</td>\n",
       "      <td>16</td>\n",
       "      <td>2024</td>\n",
       "      <td>5</td>\n",
       "      <td>11</td>\n",
       "      <td>2099</td>\n",
       "      <td>12</td>\n",
       "      <td>31</td>\n",
       "    </tr>\n",
       "    <tr>\n",
       "      <th>1</th>\n",
       "      <td>631</td>\n",
       "      <td>2022-10-10</td>\n",
       "      <td>14</td>\n",
       "      <td>2</td>\n",
       "      <td>2023-05-15</td>\n",
       "      <td>0</td>\n",
       "      <td>2023-06-04</td>\n",
       "      <td>5</td>\n",
       "      <td>9</td>\n",
       "      <td>2022</td>\n",
       "      <td>10</td>\n",
       "      <td>10</td>\n",
       "      <td>2023</td>\n",
       "      <td>5</td>\n",
       "      <td>15</td>\n",
       "      <td>2023</td>\n",
       "      <td>6</td>\n",
       "      <td>4</td>\n",
       "    </tr>\n",
       "    <tr>\n",
       "      <th>2</th>\n",
       "      <td>309</td>\n",
       "      <td>2022-05-30</td>\n",
       "      <td>2</td>\n",
       "      <td>1</td>\n",
       "      <td>2022-11-13</td>\n",
       "      <td>1</td>\n",
       "      <td>2099-12-31</td>\n",
       "      <td>7</td>\n",
       "      <td>7</td>\n",
       "      <td>2022</td>\n",
       "      <td>5</td>\n",
       "      <td>30</td>\n",
       "      <td>2022</td>\n",
       "      <td>11</td>\n",
       "      <td>13</td>\n",
       "      <td>2099</td>\n",
       "      <td>12</td>\n",
       "      <td>31</td>\n",
       "    </tr>\n",
       "    <tr>\n",
       "      <th>3</th>\n",
       "      <td>695</td>\n",
       "      <td>2023-11-27</td>\n",
       "      <td>15</td>\n",
       "      <td>2</td>\n",
       "      <td>2024-01-26</td>\n",
       "      <td>1</td>\n",
       "      <td>2099-12-31</td>\n",
       "      <td>2</td>\n",
       "      <td>18</td>\n",
       "      <td>2023</td>\n",
       "      <td>11</td>\n",
       "      <td>27</td>\n",
       "      <td>2024</td>\n",
       "      <td>1</td>\n",
       "      <td>26</td>\n",
       "      <td>2099</td>\n",
       "      <td>12</td>\n",
       "      <td>31</td>\n",
       "    </tr>\n",
       "    <tr>\n",
       "      <th>4</th>\n",
       "      <td>288</td>\n",
       "      <td>2021-09-04</td>\n",
       "      <td>14</td>\n",
       "      <td>1</td>\n",
       "      <td>2022-10-12</td>\n",
       "      <td>0</td>\n",
       "      <td>2022-11-20</td>\n",
       "      <td>6</td>\n",
       "      <td>15</td>\n",
       "      <td>2021</td>\n",
       "      <td>9</td>\n",
       "      <td>4</td>\n",
       "      <td>2022</td>\n",
       "      <td>10</td>\n",
       "      <td>12</td>\n",
       "      <td>2022</td>\n",
       "      <td>11</td>\n",
       "      <td>20</td>\n",
       "    </tr>\n",
       "  </tbody>\n",
       "</table>\n",
       "</div>"
      ],
      "text/plain": [
       "   customer_id  join_date  city_id  gender_id transaction_date  \\\n",
       "0          733 2023-05-16       15          2       2024-05-11   \n",
       "1          631 2022-10-10       14          2       2023-05-15   \n",
       "2          309 2022-05-30        2          1       2022-11-13   \n",
       "3          695 2023-11-27       15          2       2024-01-26   \n",
       "4          288 2021-09-04       14          1       2022-10-12   \n",
       "\n",
       "   transaction_status  burn_date  branch_id  merchant_id  join_date(y)  \\\n",
       "0                   1 2099-12-31          7            7          2023   \n",
       "1                   0 2023-06-04          5            9          2022   \n",
       "2                   1 2099-12-31          7            7          2022   \n",
       "3                   1 2099-12-31          2           18          2023   \n",
       "4                   0 2022-11-20          6           15          2021   \n",
       "\n",
       "   join_date(m)  join_date(d)  transaction_date(y)  transaction_date(m)  \\\n",
       "0             5            16                 2024                    5   \n",
       "1            10            10                 2023                    5   \n",
       "2             5            30                 2022                   11   \n",
       "3            11            27                 2024                    1   \n",
       "4             9             4                 2022                   10   \n",
       "\n",
       "   transaction_date(d)  burn_date(y)  burn_date(m)  burn_date(d)  \n",
       "0                   11          2099            12            31  \n",
       "1                   15          2023             6             4  \n",
       "2                   13          2099            12            31  \n",
       "3                   26          2099            12            31  \n",
       "4                   12          2022            11            20  "
      ]
     },
     "execution_count": 20,
     "metadata": {},
     "output_type": "execute_result"
    }
   ],
   "source": [
    "df2.head()"
   ]
  },
  {
   "cell_type": "code",
   "execution_count": 21,
   "id": "eeb4e584",
   "metadata": {},
   "outputs": [],
   "source": [
    "df2.drop(columns=['transaction_date','join_date','burn_date'],inplace=True)"
   ]
  },
  {
   "cell_type": "code",
   "execution_count": 33,
   "id": "a7c7cecb",
   "metadata": {},
   "outputs": [
    {
     "data": {
      "text/plain": [
       "array([[ 0.77846695,  0.83756005,  1.02716894, ...,  1.00632994,\n",
       "         0.79736328,  0.77560624],\n",
       "       [ 0.4231114 ,  0.666915  ,  1.02716894, ..., -1.00489033,\n",
       "        -0.8972314 , -1.94320457],\n",
       "       [-0.69869729, -1.38082564, -0.97354968, ...,  1.00632994,\n",
       "         0.79736328,  0.77560624],\n",
       "       ...,\n",
       "       [-0.0193411 , -0.01566522,  1.02716894, ..., -1.03135375,\n",
       "         0.79736328, -1.74181118],\n",
       "       [ 1.27666149, -0.86889048,  1.02716894, ..., -0.97842691,\n",
       "        -0.61479895,  0.57421284],\n",
       "       [-0.48269686,  1.0082051 , -0.97354968, ...,  1.00632994,\n",
       "         0.79736328,  0.77560624]])"
      ]
     },
     "execution_count": 33,
     "metadata": {},
     "output_type": "execute_result"
    }
   ],
   "source": [
    "X = df2.values \n",
    "scaler = StandardScaler()\n",
    "X_scaled = scaler.fit_transform(X)\n",
    "X_scaled"
   ]
  },
  {
   "cell_type": "markdown",
   "id": "aeff0cec",
   "metadata": {},
   "source": [
    "### Model building"
   ]
  },
  {
   "cell_type": "markdown",
   "id": "fb69d649",
   "metadata": {},
   "source": [
    "#### determine the number of clusters"
   ]
  },
  {
   "cell_type": "code",
   "execution_count": 34,
   "id": "37b1d6ff",
   "metadata": {},
   "outputs": [],
   "source": [
    "#Initialize centroids\n",
    "k = 3\n",
    "n_samples, n_features = X_scaled.shape\n",
    "mean = np.mean(X_scaled, axis=0)\n",
    "std = np.std(X_scaled, axis=0)\n",
    "centroids = np.random.randn(k, n_features) * std + mean"
   ]
  },
  {
   "cell_type": "code",
   "execution_count": 35,
   "id": "f1758951",
   "metadata": {},
   "outputs": [],
   "source": [
    "# Run K-Means manually (simplified version)\n",
    "max_iters = 100\n",
    "for _ in range(max_iters):\n",
    "    # Assign clusters (E-step)\n",
    "    distances = np.sqrt(((X_scaled - centroids[:, np.newaxis])**2).sum(axis=2))\n",
    "    clusters = np.argmin(distances, axis=0)\n",
    "    \n",
    "    # Update centroids (M-step)\n",
    "    new_centroids = np.array([X_scaled[clusters == i].mean(axis=0) for i in range(k)])\n",
    "    if np.all(centroids == new_centroids):\n",
    "        break\n",
    "    centroids = new_centroids"
   ]
  },
  {
   "cell_type": "code",
   "execution_count": 36,
   "id": "cea64c60",
   "metadata": {},
   "outputs": [
    {
     "data": {
      "image/png": "[encoded data removed]",
      "text/plain": [
       "<Figure size 800x600 with 1 Axes>"
      ]
     },
     "metadata": {},
     "output_type": "display_data"
    }
   ],
   "source": [
    "# 4. Plot results (for 2D data)\n",
    "colors = ['red', 'orange', 'magenta']\n",
    "plt.figure(figsize=(8, 6))\n",
    "for i in range(k):\n",
    "    plt.scatter(\n",
    "        X_scaled[clusters == i, 0], \n",
    "        X_scaled[clusters == i, 1], \n",
    "        s=7, \n",
    "        color=colors[i], \n",
    "        label=f'Cluster {i}'\n",
    "    )\n",
    "plt.scatter(centroids[:, 0], centroids[:, 1], marker='*', c='blue', s=150, label='Centroids')\n",
    "plt.xlabel('Feature 1')\n",
    "plt.ylabel('Feature 2')\n",
    "plt.legend()\n",
    "plt.show()"
   ]
  },
  {
   "cell_type": "code",
   "execution_count": 38,
   "id": "3df64363",
   "metadata": {},
   "outputs": [
    {
     "data": {
      "text/plain": [
       "[<matplotlib.lines.Line2D at 0x1cfb20cec50>]"
      ]
     },
     "execution_count": 38,
     "metadata": {},
     "output_type": "execute_result"
    },
    {
     "data": {
      "image/png": "[encoded data removed]",
      "text/plain": [
       "<Figure size 640x480 with 1 Axes>"
      ]
     },
     "metadata": {},
     "output_type": "display_data"
    }
   ],
   "source": [
    "wcss = []\n",
    "for k in range(1, 11):\n",
    "    kmeans = KMeans(n_clusters=k, init='k-means++', random_state=42)\n",
    "    kmeans.fit(X_scaled)\n",
    "    wcss.append(kmeans.inertia_)\n",
    "plt.plot(range(1, 11), wcss)"
   ]
  },
  {
   "cell_type": "code",
   "execution_count": 45,
   "id": "33dce72f",
   "metadata": {},
   "outputs": [],
   "source": [
    "kmeans = KMeans(n_clusters=2, random_state=42)\n",
    "labels = kmeans.fit_predict(X_scaled)\n",
    "silhouette_score = silhouette_score(X_scaled, labels)"
   ]
  },
  {
   "cell_type": "code",
   "execution_count": 46,
   "id": "25fe8e49",
   "metadata": {},
   "outputs": [
    {
     "data": {
      "text/plain": [
       "0.2034034020074996"
      ]
     },
     "execution_count": 46,
     "metadata": {},
     "output_type": "execute_result"
    }
   ],
   "source": [
    "silhouette_score"
   ]
  },
  {
   "cell_type": "markdown",
   "id": "2ebabd56",
   "metadata": {},
   "source": [
    "- A silhouette score of 0.2 indicates relatively poor clustering quality, dataset doesn't have distinct groups."
   ]
  },
  {
   "cell_type": "code",
   "execution_count": null,
   "id": "94f00d74",
   "metadata": {},
   "outputs": [],
   "source": []
  }
 ],
 "metadata": {
  "kernelspec": {
   "display_name": "Python 3 (ipykernel)",
   "language": "python",
   "name": "python3"
  },
  "language_info": {
   "codemirror_mode": {
    "name": "ipython",
    "version": 3
   },
   "file_extension": ".py",
   "mimetype": "text/x-python",
   "name": "python",
   "nbconvert_exporter": "python",
   "pygments_lexer": "ipython3",
   "version": "3.10.13"
  }
 },
 "nbformat": 4,
 "nbformat_minor": 5
}
